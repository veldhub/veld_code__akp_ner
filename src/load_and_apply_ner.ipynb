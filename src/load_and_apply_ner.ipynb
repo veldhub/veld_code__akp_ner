{
 "cells": [
  {
   "cell_type": "code",
   "execution_count": null,
   "id": "13f1d84d-3abe-41c4-9080-6a4547499c0c",
   "metadata": {},
   "outputs": [],
   "source": [
    "import csv\n",
    "import datetime\n",
    "import os\n",
    "import pysolr\n",
    "import spacy\n",
    "from spacy import displacy"
   ]
  },
  {
   "cell_type": "code",
   "execution_count": null,
   "id": "a4a160e4-9eb8-4319-88e7-600df2fbcd2b",
   "metadata": {},
   "outputs": [],
   "source": [
    "INPUT_SOLR_CORE_URL = os.getenv(\"solr_core_url\")\n",
    "OUTPUT_CSV_FILE = \"/veld/output/\" + os.getenv(\"out_csv_file\")\n",
    "print(f\"INPUT_SOLR_CORE_URL: {INPUT_SOLR_CORE_URL}\")\n",
    "print(f\"OUTPUT_CSV_FILE: {OUTPUT_CSV_FILE}\")"
   ]
  },
  {
   "cell_type": "code",
   "execution_count": null,
   "id": "18380500-e978-4f88-8b3c-9bd82a80ace0",
   "metadata": {},
   "outputs": [],
   "source": [
    "nlp = spacy.load(\"/veld/input/\")"
   ]
  },
  {
   "cell_type": "code",
   "execution_count": null,
   "id": "c5fe2c12-2c43-4863-8fbd-a209e0ae6511",
   "metadata": {},
   "outputs": [],
   "source": [
    "# helper function to display inferenced ner data and its text\n",
    "def print_with_ner(doc):\n",
    "    displacy.render(doc, style=\"ent\", jupyter=True)"
   ]
  },
  {
   "cell_type": "code",
   "execution_count": null,
   "id": "4127a00b-689f-4e65-ab9b-435a7a1985fa",
   "metadata": {},
   "outputs": [],
   "source": [
    "def fetch(pagination_limit=999999):\n",
    "    solr = pysolr.Solr(INPUT_SOLR_CORE_URL, always_commit=True)\n",
    "    solr_data = list(solr.search(\"*:*\", rows=pagination_limit))\n",
    "    solr_id_set = set(sd[\"id\"] for sd in solr_data)\n",
    "    assert len(solr_data) == len(solr_id_set)\n",
    "    print(f\"length solr_data: {len(solr_data)}\")\n",
    "    return solr_data\n",
    "\n",
    "solr_data2 = fetch()"
   ]
  },
  {
   "cell_type": "code",
   "execution_count": null,
   "id": "de953c31-d52b-4c79-b34b-a78320e38e9e",
   "metadata": {},
   "outputs": [],
   "source": [
    "def parse_persist(solr_data, break_step):\n",
    "    with open(OUTPUT_CSV_FILE, \"w\") as f:\n",
    "        csv_writer = csv.writer(f)\n",
    "        csv_writer.writerow((\"id\", \"start_char\", \"end_char\", \"text\", \"label\"))\n",
    "        data_tmp = []\n",
    "        for i, entry in enumerate(solr_data):\n",
    "            # verify\n",
    "            entry_id = entry[\"id\"]\n",
    "            text_good = entry[\"ocrtext_good\"]\n",
    "            assert len(text_good) == 1\n",
    "            text_good = text_good[0]\n",
    "            text = entry[\"ocrtext\"]\n",
    "            assert len(text) == 1\n",
    "            text = text[0]\n",
    "            if text_good != text:\n",
    "                print(f\"different texts at {entry_id}\")\n",
    "            # parse\n",
    "            doc = nlp(text_good)\n",
    "            for ent in doc.ents:\n",
    "                assert text_good[ent.start_char:ent.end_char] == ent.text\n",
    "                data_tmp.append((entry_id, ent.start_char, ent.end_char, ent.text, ent.label_))\n",
    "            # persist\n",
    "            if i != 0 and (i % break_step == 0 or i == len(solr_data) - 1):\n",
    "                print(f\"persisting at index: {i}, current id: {entry_id}, {datetime.datetime.now()}\")\n",
    "                for data_row in data_tmp:\n",
    "                    csv_writer.writerow(data_row)\n",
    "                data_tmp = []\n",
    "\n",
    "parse_persist(solr_data2, 50)"
   ]
  },
  {
   "cell_type": "code",
   "execution_count": null,
   "id": "84710918-2636-4ac6-9b9e-4c6e1fb50058",
   "metadata": {},
   "outputs": [],
   "source": [
    "# quick helper function to show samples\n",
    "#for i, sd in enumerate(solr_data2):\n",
    "#    print(i, sd[\"id\"])"
   ]
  }
 ],
 "metadata": {
  "kernelspec": {
   "display_name": "Python 3 (ipykernel)",
   "language": "python",
   "name": "python3"
  },
  "language_info": {
   "codemirror_mode": {
    "name": "ipython",
    "version": 3
   },
   "file_extension": ".py",
   "mimetype": "text/x-python",
   "name": "python",
   "nbconvert_exporter": "python",
   "pygments_lexer": "ipython3",
   "version": "3.10.12"
  }
 },
 "nbformat": 4,
 "nbformat_minor": 5
}
